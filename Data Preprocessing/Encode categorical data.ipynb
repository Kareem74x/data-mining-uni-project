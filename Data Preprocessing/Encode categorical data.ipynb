{
 "cells": [
  {
   "cell_type": "code",
   "execution_count": 8,
   "id": "886460f0",
   "metadata": {},
   "outputs": [
    {
     "name": "stdout",
     "output_type": "stream",
     "text": [
      "   Member_number        Date   itemDescription\n",
      "0           1808  21-07-2015    tropical fruit\n",
      "1           2552  05-01-2015        whole milk\n",
      "2           2300  19-09-2015         pip fruit\n",
      "3           1187  12-12-2015  other vegetables\n",
      "4           3037  01-02-2015        whole milk\n"
     ]
    }
   ],
   "source": [
    "import pandas as pd\n",
    "\n",
    "df = pd.read_csv(\"Groceries_dataset.csv\")\n",
    "print(df.head())"
   ]
  },
  {
   "cell_type": "code",
   "execution_count": 9,
   "id": "b7f89633",
   "metadata": {},
   "outputs": [],
   "source": [
    "from sklearn.preprocessing import LabelEncoder\n",
    "\n",
    "le = LabelEncoder()\n",
    "df['itemDescription_Label'] = le.fit_transform(df['itemDescription'])"
   ]
  },
  {
   "cell_type": "code",
   "execution_count": null,
   "id": "65ce3f7b",
   "metadata": {},
   "outputs": [
    {
     "name": "stdout",
     "output_type": "stream",
     "text": [
      "   Member_number        Date  itemDescription_Label  \\\n",
      "0           1808  21-07-2015                    156   \n",
      "1           2552  05-01-2015                    164   \n",
      "2           2300  19-09-2015                    109   \n",
      "3           1187  12-12-2015                    102   \n",
      "4           3037  01-02-2015                    164   \n",
      "\n",
      "   itemDescription_Instant food products  itemDescription_UHT-milk  \\\n",
      "0                                  False                     False   \n",
      "1                                  False                     False   \n",
      "2                                  False                     False   \n",
      "3                                  False                     False   \n",
      "4                                  False                     False   \n",
      "\n",
      "   itemDescription_abrasive cleaner  itemDescription_artif. sweetener  \\\n",
      "0                             False                             False   \n",
      "1                             False                             False   \n",
      "2                             False                             False   \n",
      "3                             False                             False   \n",
      "4                             False                             False   \n",
      "\n",
      "   itemDescription_baby cosmetics  itemDescription_bags  \\\n",
      "0                           False                 False   \n",
      "1                           False                 False   \n",
      "2                           False                 False   \n",
      "3                           False                 False   \n",
      "4                           False                 False   \n",
      "\n",
      "   itemDescription_baking powder  ...  itemDescription_turkey  \\\n",
      "0                          False  ...                   False   \n",
      "1                          False  ...                   False   \n",
      "2                          False  ...                   False   \n",
      "3                          False  ...                   False   \n",
      "4                          False  ...                   False   \n",
      "\n",
      "   itemDescription_vinegar  itemDescription_waffles  \\\n",
      "0                    False                    False   \n",
      "1                    False                    False   \n",
      "2                    False                    False   \n",
      "3                    False                    False   \n",
      "4                    False                    False   \n",
      "\n",
      "   itemDescription_whipped/sour cream  itemDescription_whisky  \\\n",
      "0                               False                   False   \n",
      "1                               False                   False   \n",
      "2                               False                   False   \n",
      "3                               False                   False   \n",
      "4                               False                   False   \n",
      "\n",
      "   itemDescription_white bread  itemDescription_white wine  \\\n",
      "0                        False                       False   \n",
      "1                        False                       False   \n",
      "2                        False                       False   \n",
      "3                        False                       False   \n",
      "4                        False                       False   \n",
      "\n",
      "   itemDescription_whole milk  itemDescription_yogurt  \\\n",
      "0                       False                   False   \n",
      "1                        True                   False   \n",
      "2                       False                   False   \n",
      "3                       False                   False   \n",
      "4                        True                   False   \n",
      "\n",
      "   itemDescription_zwieback  \n",
      "0                     False  \n",
      "1                     False  \n",
      "2                     False  \n",
      "3                     False  \n",
      "4                     False  \n",
      "\n",
      "[5 rows x 170 columns]\n"
     ]
    }
   ],
   "source": [
    "df_onehot = pd.get_dummies(df, columns=['itemDescription'])\n",
    "print(df_onehot.head())"
   ]
  }
 ],
 "metadata": {
  "kernelspec": {
   "display_name": "Python 3",
   "language": "python",
   "name": "python3"
  },
  "language_info": {
   "codemirror_mode": {
    "name": "ipython",
    "version": 3
   },
   "file_extension": ".py",
   "mimetype": "text/x-python",
   "name": "python",
   "nbconvert_exporter": "python",
   "pygments_lexer": "ipython3",
   "version": "3.10.7"
  }
 },
 "nbformat": 4,
 "nbformat_minor": 5
}
