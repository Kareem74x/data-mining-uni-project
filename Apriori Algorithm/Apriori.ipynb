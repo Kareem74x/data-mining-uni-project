{
 "cells": [
  {
   "cell_type": "code",
   "execution_count": 15,
   "id": "3def9f22",
   "metadata": {},
   "outputs": [],
   "source": [
    "from mlxtend.frequent_patterns import apriori, association_rules\n",
    "from mlxtend.preprocessing import TransactionEncoder\n",
    "import pandas as pd"
   ]
  },
  {
   "cell_type": "code",
   "execution_count": 16,
   "id": "97eb55e4",
   "metadata": {},
   "outputs": [],
   "source": [
    "df = pd.read_csv('Groceries_dataset.csv')"
   ]
  },
  {
   "cell_type": "code",
   "execution_count": 17,
   "id": "cbe5754c",
   "metadata": {},
   "outputs": [],
   "source": [
    "# Transactions\n",
    "transactions_series = df.groupby(['Member_number', 'Date'])['itemDescription'].apply(list)\n",
    "transactions = transactions_series.tolist()"
   ]
  },
  {
   "cell_type": "code",
   "execution_count": 18,
   "id": "bf38a909",
   "metadata": {},
   "outputs": [],
   "source": [
    "te = TransactionEncoder()\n",
    "te_array = te.fit(transactions).transform(transactions)\n",
    "df_encoded = pd.DataFrame(te_array, columns=te.columns_)"
   ]
  }
 ],
 "metadata": {
  "kernelspec": {
   "display_name": "Python 3",
   "language": "python",
   "name": "python3"
  },
  "language_info": {
   "codemirror_mode": {
    "name": "ipython",
    "version": 3
   },
   "file_extension": ".py",
   "mimetype": "text/x-python",
   "name": "python",
   "nbconvert_exporter": "python",
   "pygments_lexer": "ipython3",
   "version": "3.10.7"
  }
 },
 "nbformat": 4,
 "nbformat_minor": 5
}
