{
 "cells": [
  {
   "cell_type": "code",
   "execution_count": 15,
   "id": "3def9f22",
   "metadata": {},
   "outputs": [],
   "source": [
    "from mlxtend.frequent_patterns import apriori, association_rules\n",
    "from mlxtend.preprocessing import TransactionEncoder\n",
    "import pandas as pd"
   ]
  },
  {
   "cell_type": "code",
   "execution_count": 16,
   "id": "97eb55e4",
   "metadata": {},
   "outputs": [],
   "source": [
    "df = pd.read_csv('Groceries_dataset.csv')"
   ]
  },
  {
   "cell_type": "code",
   "execution_count": 17,
   "id": "cbe5754c",
   "metadata": {},
   "outputs": [],
   "source": [
    "# Transactions\n",
    "transactions_series = df.groupby(['Member_number', 'Date'])['itemDescription'].apply(list)\n",
    "transactions = transactions_series.tolist()"
   ]
  },
  {
   "cell_type": "code",
   "execution_count": 18,
   "id": "bf38a909",
   "metadata": {},
   "outputs": [],
   "source": [
    "te = TransactionEncoder()\n",
    "te_array = te.fit(transactions).transform(transactions)\n",
    "df_encoded = pd.DataFrame(te_array, columns=te.columns_)"
   ]
  },
  {
   "cell_type": "code",
   "execution_count": 19,
   "id": "36c301d2",
   "metadata": {},
   "outputs": [],
   "source": [
    "frequent_itemsets = apriori(df_encoded, min_support=0.01, use_colnames=True)"
   ]
  },
  {
   "cell_type": "code",
   "execution_count": 20,
   "id": "cac857fe",
   "metadata": {},
   "outputs": [
    {
     "name": "stdout",
     "output_type": "stream",
     "text": [
      "          antecedents   consequents  antecedent support  consequent support  \\\n",
      "0  (other vegetables)  (whole milk)            0.122101            0.157923   \n",
      "1        (rolls/buns)  (whole milk)            0.110005            0.157923   \n",
      "2              (soda)  (whole milk)            0.097106            0.157923   \n",
      "3            (yogurt)  (whole milk)            0.085879            0.157923   \n",
      "\n",
      "    support  confidence      lift  representativity  leverage  conviction  \\\n",
      "0  0.014837    0.121511  0.769430               1.0 -0.004446    0.958551   \n",
      "1  0.013968    0.126974  0.804028               1.0 -0.003404    0.964550   \n",
      "2  0.011629    0.119752  0.758296               1.0 -0.003707    0.956636   \n",
      "3  0.011161    0.129961  0.822940               1.0 -0.002401    0.967861   \n",
      "\n",
      "   zhangs_metric   jaccard  certainty  kulczynski  \n",
      "0      -0.254477  0.055948  -0.043241    0.107730  \n",
      "1      -0.214986  0.055000  -0.036752    0.107711  \n",
      "2      -0.260917  0.047776  -0.045329    0.096694  \n",
      "3      -0.190525  0.047975  -0.033206    0.100317  \n"
     ]
    }
   ],
   "source": [
    "rules = association_rules(frequent_itemsets, metric=\"confidence\", min_threshold=0.1)\n",
    "print(rules)"
   ]
  },
  {
   "cell_type": "code",
   "execution_count": null,
   "id": "c538bc4f",
   "metadata": {},
   "outputs": [
    {
     "name": "stdout",
     "output_type": "stream",
     "text": [
      "Rule #1: If a customer buys **yogurt**, they are likely to also buy **whole milk**.\n",
      "  - Support: 0.01\n",
      "  - Confidence: 0.13\n",
      "  - Lift: 0.82\n",
      "\n",
      "Rule #2: If a customer buys **rolls/buns**, they are likely to also buy **whole milk**.\n",
      "  - Support: 0.01\n",
      "  - Confidence: 0.13\n",
      "  - Lift: 0.80\n",
      "\n",
      "Rule #3: If a customer buys **other vegetables**, they are likely to also buy **whole milk**.\n",
      "  - Support: 0.01\n",
      "  - Confidence: 0.12\n",
      "  - Lift: 0.77\n",
      "\n"
     ]
    }
   ],
   "source": [
    "# Filter for simple (1→1) rules\n",
    "simple_rules = rules[\n",
    "    (rules['antecedents'].apply(lambda x: len(x) == 1)) &\n",
    "    (rules['consequents'].apply(lambda x: len(x) == 1))\n",
    "]\n",
    "\n",
    "\n",
    "top_3_rules = simple_rules.sort_values(by='lift', ascending=False).head(3)\n",
    "\n",
    "\n",
    "j = 1\n",
    "for i, row in top_3_rules.iterrows():\n",
    "    \n",
    "    antecedent = list(row['antecedents'])[0]\n",
    "    consequent = list(row['consequents'])[0]\n",
    "    \n",
    "    print(f\"Rule #{j}: If a customer buys **{antecedent}**, they are likely to also buy **{consequent}**.\")\n",
    "    print(f\"  - Support: {row['support']:.2f}\")\n",
    "    print(f\"  - Confidence: {row['confidence']:.2f}\")\n",
    "    print(f\"  - Lift: {row['lift']:.2f}\\n\")\n",
    "    \n",
    "    j+=1"
   ]
  }
 ],
 "metadata": {
  "kernelspec": {
   "display_name": "Python 3",
   "language": "python",
   "name": "python3"
  },
  "language_info": {
   "codemirror_mode": {
    "name": "ipython",
    "version": 3
   },
   "file_extension": ".py",
   "mimetype": "text/x-python",
   "name": "python",
   "nbconvert_exporter": "python",
   "pygments_lexer": "ipython3",
   "version": "3.10.7"
  }
 },
 "nbformat": 4,
 "nbformat_minor": 5
}
